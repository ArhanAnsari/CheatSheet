{
 "cells": [
  {
   "cell_type": "code",
   "execution_count": 16,
   "metadata": {},
   "outputs": [],
   "source": [
    "from requests import get\n",
    "from requests.exceptions import RequestException\n",
    "from contextlib import closing\n",
    "from bs4 import BeautifulSoup"
   ]
  },
  {
   "cell_type": "code",
   "execution_count": 23,
   "metadata": {},
   "outputs": [],
   "source": [
    "def simpleGet(geturl):\n",
    "    \"\"\"\n",
    "    Attempts to get the content at `url` by making an HTTP GET request.\n",
    "       If the content-type of response is some kind of HTML/XML, return the\n",
    "       text content, otherwise return None.\n",
    "       \"\"\"\n",
    "    try:\n",
    "        with closing(get(url,stream=True)) as resp:\n",
    "            if isGoodResponse(resp):\n",
    "                return response.content\n",
    "            else:\n",
    "                return None\n",
    "    except RequestException as e:\n",
    "        logError(\"Error during request to {0}:{1}\".format(url,str(e)))\n",
    "        return None\n",
    "         \n",
    "    "
   ]
  },
  {
   "cell_type": "code",
   "execution_count": 24,
   "metadata": {},
   "outputs": [],
   "source": [
    "def isGoodResponse(resp):\n",
    "    \"\"\"\n",
    "    Returns True if the response seems to be HTML, False otherwise.\n",
    "    \"\"\"\n",
    "    content_type = resp.headers['content-type'].lower()\n",
    "    return (resp.resp_status_code == 200 and content_type is not None and content_type.find('html') > -1)  \n",
    "    "
   ]
  },
  {
   "cell_type": "code",
   "execution_count": 25,
   "metadata": {},
   "outputs": [],
   "source": [
    "def logError(e):\n",
    "    \"\"\"\n",
    "    It is always a good idea to log errors.\n",
    "    This function just prints them, but you can\n",
    "    make it do anything.\n",
    "    \"\"\"\n",
    "    print(e)"
   ]
  },
  {
   "cell_type": "code",
   "execution_count": 26,
   "metadata": {},
   "outputs": [],
   "source": [
    "def getNames():\n",
    "    \"\"\"\n",
    "    Downloads the page where the list of mathematicians is found\n",
    "    and returns a list of strings, one per mathematician\n",
    "\n",
    "    \"\"\"\n",
    "    url  = \"http://www.fabpedigree.com/james/mathmen.htm\"\n",
    "    response= simpleGet(url)\n",
    "    \n",
    "    if response is not None:\n",
    "        html = BeautifulSoup(response, html.parser)\n",
    "        name = set()\n",
    "        for li in html.select(\"li\"):\n",
    "            for name in li.text.split('\\n'):\n",
    "                if len(name)>0:\n",
    "                    names.add(name.strip())\n",
    "        return list(names)\n",
    "    # Raise an exception if we failed to get any data from the url\n",
    "    raise Exception('Error retrieving contents at {}'.format(url))\n",
    "                \n"
   ]
  },
  {
   "cell_type": "code",
   "execution_count": 27,
   "metadata": {},
   "outputs": [],
   "source": [
    "def getHitsOnSame(name):\n",
    "    \"\"\"\n",
    "    Accepts a `name` of a mathematician and returns the number\n",
    "    of hits that mathematician's Wikipedia page received in the\n",
    "    last 60 days, as an `int`\n",
    "    \"\"\"\n",
    "    # url_root is a template string that is used to build a URL.\n",
    "    url_root = 'URL_REMOVED_SEE_NOTICE_AT_START_OF_ARTICLE'\n",
    "    response = simpleGet(url_root.format(name))\n",
    "    if response is not None:\n",
    "        html=BeautifulSoup(response,'html.parser')\n",
    "        \n",
    "        hit_link= [a for a in html.select('a')\n",
    "                   if a['href'].find('latest-60') > -1]\n",
    "        \n",
    "        if len(hit_link) >0:\n",
    "            # Strip Commas\n",
    "            link_text = hit_link[0].text.place(',','')\n",
    "            try:\n",
    "                # Convert to integer\n",
    "                return int(link_text)\n",
    "            except:\n",
    "                log_error(\"couldn't parse {} as an `int`\".format(link_text))\n",
    "                \n",
    "    logError('No pageviews found for {}'.format(name))\n",
    "\n",
    "    return None\n",
    "\n",
    "\n"
   ]
  },
  {
   "cell_type": "code",
   "execution_count": 28,
   "metadata": {},
   "outputs": [
    {
     "name": "stdout",
     "output_type": "stream",
     "text": [
      "Getting the list of names....\n"
     ]
    },
    {
     "ename": "NameError",
     "evalue": "name 'url' is not defined",
     "output_type": "error",
     "traceback": [
      "\u001b[1;31m---------------------------------------------------------------------------\u001b[0m",
      "\u001b[1;31mNameError\u001b[0m                                 Traceback (most recent call last)",
      "\u001b[1;32m<ipython-input-28-ca902895e808>\u001b[0m in \u001b[0;36m<module>\u001b[1;34m\u001b[0m\n\u001b[0;32m      1\u001b[0m \u001b[1;32mif\u001b[0m \u001b[0m__name__\u001b[0m \u001b[1;33m==\u001b[0m \u001b[1;34m'__main__'\u001b[0m\u001b[1;33m:\u001b[0m\u001b[1;33m\u001b[0m\u001b[1;33m\u001b[0m\u001b[0m\n\u001b[0;32m      2\u001b[0m        \u001b[0mprint\u001b[0m\u001b[1;33m(\u001b[0m\u001b[1;34m'Getting the list of names....'\u001b[0m\u001b[1;33m)\u001b[0m\u001b[1;33m\u001b[0m\u001b[1;33m\u001b[0m\u001b[0m\n\u001b[1;32m----> 3\u001b[1;33m        \u001b[0mnames\u001b[0m \u001b[1;33m=\u001b[0m \u001b[0mgetNames\u001b[0m\u001b[1;33m(\u001b[0m\u001b[1;33m)\u001b[0m\u001b[1;33m\u001b[0m\u001b[1;33m\u001b[0m\u001b[0m\n\u001b[0m\u001b[0;32m      4\u001b[0m        \u001b[0mprint\u001b[0m\u001b[1;33m(\u001b[0m\u001b[1;34m'... done.\\n'\u001b[0m\u001b[1;33m)\u001b[0m\u001b[1;33m\u001b[0m\u001b[1;33m\u001b[0m\u001b[0m\n\u001b[0;32m      5\u001b[0m \u001b[1;33m\u001b[0m\u001b[0m\n",
      "\u001b[1;32m<ipython-input-26-b413774a4a6a>\u001b[0m in \u001b[0;36mgetNames\u001b[1;34m()\u001b[0m\n\u001b[0;32m      6\u001b[0m     \"\"\"\n\u001b[0;32m      7\u001b[0m     \u001b[0murl\u001b[0m  \u001b[1;33m=\u001b[0m \u001b[1;34m\"http://www.fabpedigree.com/james/mathmen.htm\"\u001b[0m\u001b[1;33m\u001b[0m\u001b[1;33m\u001b[0m\u001b[0m\n\u001b[1;32m----> 8\u001b[1;33m     \u001b[0mresponse\u001b[0m\u001b[1;33m=\u001b[0m \u001b[0msimpleGet\u001b[0m\u001b[1;33m(\u001b[0m\u001b[0murl\u001b[0m\u001b[1;33m)\u001b[0m\u001b[1;33m\u001b[0m\u001b[1;33m\u001b[0m\u001b[0m\n\u001b[0m\u001b[0;32m      9\u001b[0m \u001b[1;33m\u001b[0m\u001b[0m\n\u001b[0;32m     10\u001b[0m     \u001b[1;32mif\u001b[0m \u001b[0mresponse\u001b[0m \u001b[1;32mis\u001b[0m \u001b[1;32mnot\u001b[0m \u001b[1;32mNone\u001b[0m\u001b[1;33m:\u001b[0m\u001b[1;33m\u001b[0m\u001b[1;33m\u001b[0m\u001b[0m\n",
      "\u001b[1;32m<ipython-input-23-e6a70b15d59a>\u001b[0m in \u001b[0;36msimpleGet\u001b[1;34m(geturl)\u001b[0m\n\u001b[0;32m      6\u001b[0m        \"\"\"\n\u001b[0;32m      7\u001b[0m     \u001b[1;32mtry\u001b[0m\u001b[1;33m:\u001b[0m\u001b[1;33m\u001b[0m\u001b[1;33m\u001b[0m\u001b[0m\n\u001b[1;32m----> 8\u001b[1;33m         \u001b[1;32mwith\u001b[0m \u001b[0mclosing\u001b[0m\u001b[1;33m(\u001b[0m\u001b[0mget\u001b[0m\u001b[1;33m(\u001b[0m\u001b[0murl\u001b[0m\u001b[1;33m,\u001b[0m\u001b[0mstream\u001b[0m\u001b[1;33m=\u001b[0m\u001b[1;32mTrue\u001b[0m\u001b[1;33m)\u001b[0m\u001b[1;33m)\u001b[0m \u001b[1;32mas\u001b[0m \u001b[0mresp\u001b[0m\u001b[1;33m:\u001b[0m\u001b[1;33m\u001b[0m\u001b[1;33m\u001b[0m\u001b[0m\n\u001b[0m\u001b[0;32m      9\u001b[0m             \u001b[1;32mif\u001b[0m \u001b[0misGoodResponse\u001b[0m\u001b[1;33m(\u001b[0m\u001b[0mresp\u001b[0m\u001b[1;33m)\u001b[0m\u001b[1;33m:\u001b[0m\u001b[1;33m\u001b[0m\u001b[1;33m\u001b[0m\u001b[0m\n\u001b[0;32m     10\u001b[0m                 \u001b[1;32mreturn\u001b[0m \u001b[0mresponse\u001b[0m\u001b[1;33m.\u001b[0m\u001b[0mcontent\u001b[0m\u001b[1;33m\u001b[0m\u001b[1;33m\u001b[0m\u001b[0m\n",
      "\u001b[1;31mNameError\u001b[0m: name 'url' is not defined"
     ]
    }
   ],
   "source": [
    " if __name__ == '__main__':\n",
    "        print('Getting the list of names....')\n",
    "        names = getNames()\n",
    "        print('... done.\\n')\n",
    "        \n",
    "        \n",
    "        results = []\n",
    "        print('Getting stats for each name....')\n",
    "\n",
    "        for name in names:\n",
    "            try:\n",
    "                hits = getHitsOnName(name)\n",
    "                if hits is None:\n",
    "                    hits = -1\n",
    "                results.append((hits,name))\n",
    "            except:\n",
    "                results.append(-1,name)\n",
    "                logError('error encountered while processing ''{}, skipping'.format(name))\n",
    "        \n",
    "        \n",
    "        print('... done.\\n')\n",
    "\n",
    "        results.sort()\n",
    "        results.reverse()\n",
    "        if len(results) > 5:\n",
    "            top_marks = results[:5]\n",
    "        else:\n",
    "            top_marks = results\n",
    "        print('\\nThe most popular mathematicians are:\\n')\n",
    "        for (mark, mathematician) in top_marks:\n",
    "            print('{} with {} pageviews'.format(mathematician, mark))\n",
    "            \n",
    "        no_results = len([res for res in results if res[0] == -1])\n",
    "        print('\\nBut we did not find results for ' '{} mathematicians on the list'.format(no_results))\n",
    "\n",
    "                \n",
    "\n",
    "        \n",
    "    "
   ]
  }
 ],
 "metadata": {
  "kernelspec": {
   "display_name": "Python 3",
   "language": "python",
   "name": "python3"
  },
  "language_info": {
   "codemirror_mode": {
    "name": "ipython",
    "version": 3
   },
   "file_extension": ".py",
   "mimetype": "text/x-python",
   "name": "python",
   "nbconvert_exporter": "python",
   "pygments_lexer": "ipython3",
   "version": "3.6.8"
  }
 },
 "nbformat": 4,
 "nbformat_minor": 2
}
