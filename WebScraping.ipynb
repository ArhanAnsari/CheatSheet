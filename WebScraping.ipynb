{
 "cells": [
  {
   "cell_type": "code",
   "execution_count": 7,
   "metadata": {},
   "outputs": [],
   "source": [
    "import requests\n",
    "from bs4 import BeautifulSoup"
   ]
  },
  {
   "cell_type": "code",
   "execution_count": 8,
   "metadata": {},
   "outputs": [],
   "source": [
    "web_url = \"http://www.dailycal.org/section/news/\" # this is the web page\n"
   ]
  },
  {
   "cell_type": "code",
   "execution_count": 9,
   "metadata": {},
   "outputs": [],
   "source": [
    "raw_page_data = requests.get(web_url) # creates a GET request to the web"
   ]
  },
  {
   "cell_type": "code",
   "execution_count": 10,
   "metadata": {},
   "outputs": [
    {
     "name": "stdout",
     "output_type": "stream",
     "text": [
      "Request Status Code: 200\n"
     ]
    }
   ],
   "source": [
    "print(\"Request Status Code: \" + str(raw_page_data.status_code)) # HTTP S"
   ]
  },
  {
   "cell_type": "code",
   "execution_count": 11,
   "metadata": {},
   "outputs": [],
   "source": [
    "soup = BeautifulSoup(raw_page_data.content) # soupifies the Object, auto"
   ]
  },
  {
   "cell_type": "code",
   "execution_count": 12,
   "metadata": {},
   "outputs": [],
   "source": [
    "section_title = soup.find(\"h2\", {\"class\":\"section-title\"})"
   ]
  },
  {
   "cell_type": "code",
   "execution_count": 13,
   "metadata": {},
   "outputs": [
    {
     "name": "stdout",
     "output_type": "stream",
     "text": [
      "\n",
      "News \n",
      "['ASUC president issues emergency executive order to fill vacancies on Elections, Judicial councils', '‘Getting lit with a purpose’: UC Berkeley 4/20 celebration proceeds to support criminal justice reform', 'Berkeley enforces sidewalk ordinance in ‘Here There’ encampment', 'ASUC Sexual Violence Commission hosts conference for sexual assault awareness month', 'Northside ‘mom-and-pop’ restaurant Jasmine Thai to close in May', 'UC Berkeley Food Pantry celebrates its 5th anniversary', 'UC Berkeley business professor finds $20B surplus charge in California gas prices', 'Mayor Jesse Arreguín, student advisory board talk homelessness in Berkeley', 'Anti-Semitic remarks prompt backlash from UC Berkeley Jewish community after ASUC meeting', '9 ASUC officials resign, students protest in response to Student Action candidates’ disqualification from 2019 elections']\n"
     ]
    }
   ],
   "source": [
    "relevant_news_articles = soup.find_all(\"a\", {\"rel\":\"bookmark\"})\n",
    "print(section_title.text)\n",
    "print([x.text for x in relevant_news_articles])"
   ]
  },
  {
   "cell_type": "code",
   "execution_count": 22,
   "metadata": {},
   "outputs": [],
   "source": [
    "def scarp_article(article_object):\n",
    "    url = article_object.attrs[\"href\"]\n",
    "    \n",
    "    raw_article_source = requests.get(url)\n",
    "    souped_article = BeautifulSoup(raw_article_source.content)\n",
    "    \n",
    "    title = souped_article.find(\"h2\",{\"class\" : \"entry-title\"}).text\n",
    "    date = souped_article.find(\"time\",{\"class\" : \"entry-date\"}).text\n",
    "    author = souped_article.find(\"a\",{\"rel\":\"author\"}).text\n",
    "    content = souped_article.find(\"div\",{\"class\":\"entry-content\"}).text\n",
    "    \n",
    "    return(title,date,author,content)\n"
   ]
  },
  {
   "cell_type": "code",
   "execution_count": 23,
   "metadata": {},
   "outputs": [
    {
     "name": "stdout",
     "output_type": "stream",
     "text": [
      "<a href=\"http://www.dailycal.org/2019/04/19/asuc-president-issues-emergency-order-to-fill-vacancies-on-elections-judicial-councils/\" rel=\"bookmark\">ASUC president issues emergency executive order to fill vacancies on Elections, Judicial councils</a>\n"
     ]
    }
   ],
   "source": [
    "sample_article = relevant_news_articles[0]\n",
    "relevant_news_articles\n",
    "sample_scrape = scarp_article(sample_article)\n",
    "print(sample_article)"
   ]
  },
  {
   "cell_type": "code",
   "execution_count": 24,
   "metadata": {},
   "outputs": [
    {
     "name": "stdout",
     "output_type": "stream",
     "text": [
      "Title,Date,Author,Content(Trunc.)\n",
      "\n"
     ]
    }
   ],
   "source": [
    "print(\"Title,Date,Author,Content(Trunc.)\")\n",
    "print()"
   ]
  },
  {
   "cell_type": "code",
   "execution_count": 28,
   "metadata": {},
   "outputs": [
    {
     "name": "stdout",
     "output_type": "stream",
     "text": [
      "ASUC president issues emergency executive order to fill vacancies on Elections, Judicial councils\n",
      "Friday, April 19, 2019\n",
      "Amber Tang\n",
      "\n",
      "ASUC President Alexander Wilfert issued an emergency executive order Friday afternoon in an attempt to quickly fill the vacancies brought about by a flurry of resignations from the Elections and Judicial councils — an incident that has thrown ASUC o\n",
      "\n",
      "‘Getting lit with a purpose’: UC Berkeley 4/20 celebration proceeds to support criminal justice reform\n",
      "Sunday, April 21, 2019\n",
      "Kate Finman\n",
      "\n",
      "UC Berkeley’s Memorial Glade was covered in a smoky haze Saturday, as thousands of students gathered in celebration of 4/20 to spend time with friends, get high and snack on food, while at the same time supporting criminal justice reform.\n",
      "The event,\n",
      "\n",
      "Berkeley enforces sidewalk ordinance in ‘Here There’ encampment\n",
      "Monday, April 22, 2019\n",
      "Vanessa Arredondo\n",
      "\n",
      "After more than two years of existence, the “Here There” encampment, described by Berkeley Mayor Jesse Arreguín as a “well-run intentional community,” now faces the enforcement of regulations that place restrictions on residents’ use of sidewalk spa\n",
      "\n",
      "ASUC Sexual Violence Commission hosts conference for sexual assault awareness month\n",
      "Sunday, April 21, 2019\n",
      "Maya Akkaraju\n",
      "\n",
      "About a dozen students gathered in Barrows Hall on Friday afternoon for the ASUC Sexual Violence Commission’s Sexual Assault Awareness Month conference.\n",
      "The conference was reinstated this year after a two-year hiatus, aiming to provide a space for a\n",
      "\n",
      "Northside ‘mom-and-pop’ restaurant Jasmine Thai to close in May\n",
      "Sunday, April 21, 2019\n",
      "Sasha Langholz\n",
      "\n",
      "Jasmine Thai, a cozy “mom-and-pop” business on Northside known for its affordable and authentic Thai food, is set to close in May for economic reasons after 14 years of business.\n",
      "The restaurant, which has served the city of Berkeley and the campus c\n",
      "\n",
      "UC Berkeley Food Pantry celebrates its 5th anniversary\n",
      "Sunday, April 21, 2019\n",
      "Sabina Mahavni\n",
      "\n",
      "Thursday marked the five-year anniversary of the UC Berkeley Food Pantry, a resource center dedicated to helping campus students and staff who need immediate food assistance.\n",
      "The Food Pantry, located on the basement floor of the Martin Luther King J\n",
      "\n",
      "UC Berkeley business professor finds $20B surplus charge in California gas prices\n",
      "Sunday, April 21, 2019\n",
      "Emily Hom\n",
      "\n",
      "There is a $20-billion excess surcharge in California’s gasoline prices, according to Severin Borenstein, a UC Berkeley professor of business administration and public policy and a faculty director of the Energy Institute at the Haas School of Busin\n",
      "\n",
      "Mayor Jesse Arreguín, student advisory board talk homelessness in Berkeley\n",
      "Sunday, April 21, 2019\n",
      "Megha Krishnan\n",
      "\n",
      "The Student Advisory Board to the Mayor met with Berkeley Mayor Jesse Arreguín on Friday to discuss the causes of the homelessness crisis in Berkeley, actions the city has taken to address it and potential solutions.\n",
      "Seven UC Berkeley students atten\n",
      "\n",
      "Anti-Semitic remarks prompt backlash from UC Berkeley Jewish community after ASUC meeting\n",
      "Saturday, April 20, 2019\n",
      "Maya Eliahou\n",
      "\n",
      "A lengthy and heated public discussion at a regular ASUC meeting Wednesday night regarding Student Action’s disqualification resulted in several anti-Zionist and anti-Semitic comments, prompting backlash from the UC Berkeley Jewish community.\n",
      "In a j\n",
      "\n",
      "9 ASUC officials resign, students protest in response to Student Action candidates’ disqualification from 2019 elections\n",
      "Thursday, April 18, 2019\n",
      "Anjali Shrivastava\n",
      "\n",
      "About 200 students attended Wednesday night’s regular ASUC meeting to both voice their support for and condemnation of the Judicial Council’s recent controversial ruling that resulted in the retroactive disqualification of all Student Action candida\n",
      "\n"
     ]
    }
   ],
   "source": [
    "for article in relevant_news_articles:\n",
    "    scraped_data = scarp_article(article)\n",
    "    print(scraped_data[0])\n",
    "    print(scraped_data[1])\n",
    "    print(scraped_data[2])\n",
    "    print(scraped_data[3][:250])\n",
    "    print()\n",
    "    "
   ]
  },
  {
   "cell_type": "code",
   "execution_count": null,
   "metadata": {},
   "outputs": [],
   "source": []
  }
 ],
 "metadata": {
  "kernelspec": {
   "display_name": "Python 3",
   "language": "python",
   "name": "python3"
  },
  "language_info": {
   "codemirror_mode": {
    "name": "ipython",
    "version": 3
   },
   "file_extension": ".py",
   "mimetype": "text/x-python",
   "name": "python",
   "nbconvert_exporter": "python",
   "pygments_lexer": "ipython3",
   "version": "3.6.8"
  }
 },
 "nbformat": 4,
 "nbformat_minor": 2
}
